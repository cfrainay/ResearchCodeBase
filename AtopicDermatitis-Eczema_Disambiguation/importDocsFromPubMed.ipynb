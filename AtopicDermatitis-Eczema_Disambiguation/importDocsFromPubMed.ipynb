{
 "cells": [
  {
   "cell_type": "markdown",
   "metadata": {},
   "source": [
    "# Import Documents from PubMed"
   ]
  },
  {
   "cell_type": "code",
   "execution_count": null,
   "metadata": {},
   "outputs": [],
   "source": [
    "# coding: utf-8\n",
    "\n",
    "import os\n",
    "import requests\n",
    "import xml.etree.ElementTree as et\n"
   ]
  },
  {
   "cell_type": "markdown",
   "metadata": {},
   "source": [
    "## Set access to PubMed webservices"
   ]
  },
  {
   "cell_type": "code",
   "execution_count": null,
   "metadata": {},
   "outputs": [],
   "source": [
    "# pubmed webservice url for retreiving documents ids from query\n",
    "url_search = \"https://eutils.ncbi.nlm.nih.gov/entrez/eutils/esearch.fcgi?db=pubmed&retmode=xml&retmax=100000&term=\"\n",
    "# pubmed webservice url for retreiving abstract from docuemnt id\n",
    "url_fetch = \"https://eutils.ncbi.nlm.nih.gov/entrez/eutils/efetch.fcgi?db=pubmed&retmode=text&rettype=xml&id=\""
   ]
  },
  {
   "cell_type": "markdown",
   "metadata": {},
   "source": [
    "## Set PubMed queries"
   ]
  },
  {
   "cell_type": "code",
   "execution_count": null,
   "metadata": {},
   "outputs": [],
   "source": [
    "#Pubmed queries\n",
    "queries = {\n",
    "    \"eczema\" : \"(\\\"Eczema\\\"[MH] NOT \\\"Dermatitis, Atopic\\\"[MH]) AND (\\\"1945/01/01\\\"[PDat] : \\\"2017/31/12\\\"[PDat])\",\n",
    "    \"dermatitis_atopic\" : \"(\\\"Dermatitis, Atopic\\\"[MH] NOT \\\"Eczema\\\"[MH]) AND (\\\"1945/01/01\\\"[PDat] : \\\"2017/31/12\\\"[PDat])\"\n",
    "}"
   ]
  },
  {
   "cell_type": "markdown",
   "metadata": {},
   "source": [
    "## Retrieve and parse response"
   ]
  },
  {
   "cell_type": "code",
   "execution_count": null,
   "metadata": {},
   "outputs": [],
   "source": [
    "for label in queries : \n",
    "    query = queries[label]\n",
    "    pathData = \"./data/raw/\"+label\n",
    "    if not os.path.isdir(pathData) : \n",
    "        os.mkdir(pathData)\n",
    "\n",
    "\n",
    "    # retrieve documents id related to query\n",
    "    f = requests.get(url_search+query)\n",
    "    #--parse response to extract article ids\n",
    "    tree = et.fromstring(f.text)\n",
    "    ids_list = tree.findall(\"./IdList/Id\")\n",
    "    print(query+\"\\t\"+str(len(ids_list)))\n",
    "    \n",
    "    #--export PMIDs list\n",
    "    with open(\"./data/\"+label+\"_PMIDs.tab\", \"w\") as fout : \n",
    "        for idPaper in ids_list : \n",
    "            fout.write(str(idPaper.text)+\"\\n\")\n",
    "    \n",
    "    # for each document returned by pubmed\n",
    "    for idPaper in ids_list :\n",
    "        \n",
    "        #get pubmed entry xml content from pubmed identifier\n",
    "        article = requests.get(url_fetch+idPaper.text)\n",
    "        try : \n",
    "            #get title from pubmed entry              \n",
    "            article_tree = et.fromstring(article.text)\n",
    "            title = article_tree.find(\"./PubmedArticle/MedlineCitation/Article/ArticleTitle\")\n",
    "\n",
    "            #skip documents without title or undefined title\n",
    "            if title is not None : \n",
    "                document = title.text\n",
    "                if \"Not Available\" not in document : \n",
    "                    \n",
    "                    #get abstract content from pubmed entry  \n",
    "                    abstractObject = article_tree.find(\"./PubmedArticle/MedlineCitation/Article/Abstract/AbstractText\")\n",
    "                    #if abstract available, append to title in document\n",
    "                    if not abstractObject is None :\n",
    "                        document=document+\" \"+abstractObject.text\n",
    "                    document = document.replace(\"[\", \"\").replace(\"]\", \"\") #remove brackets for translated titles\n",
    "\n",
    "                    #write extracted document\n",
    "                    with open(pathData+\"/\"+str(idPaper.text)+\".txt\", 'w') as fw : \n",
    "                        fw.write(document)\n",
    "        except Exception as e:\n",
    "                print(\"error : unable to import data from PMID \",idPaper.text,\"\\n\",str(e))"
   ]
  },
  {
   "cell_type": "code",
   "execution_count": null,
   "metadata": {},
   "outputs": [],
   "source": []
  }
 ],
 "metadata": {
  "kernelspec": {
   "display_name": "Python 3",
   "language": "python",
   "name": "python3"
  },
  "language_info": {
   "codemirror_mode": {
    "name": "ipython",
    "version": 3
   },
   "file_extension": ".py",
   "mimetype": "text/x-python",
   "name": "python",
   "nbconvert_exporter": "python",
   "pygments_lexer": "ipython3",
   "version": "3.8.5"
  }
 },
 "nbformat": 4,
 "nbformat_minor": 2
}
