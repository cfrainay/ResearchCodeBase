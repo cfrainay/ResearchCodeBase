{
 "cells": [
  {
   "cell_type": "markdown",
   "metadata": {},
   "source": [
    "# Document preprocessing"
   ]
  },
  {
   "cell_type": "code",
   "execution_count": null,
   "metadata": {},
   "outputs": [],
   "source": [
    "\n",
    "import os\n",
    "import re\n",
    "import shutil\n",
    "\n",
    "\n",
    "import nltk\n",
    "from nltk.corpus import stopwords\n",
    "from nltk.tokenize import word_tokenize\n",
    "from nltk.stem import WordNetLemmatizer\n",
    "\n",
    "nltk.download('wordnet')\n",
    "nltk.download('stopwords')\n",
    "nltk.download('punkt')"
   ]
  },
  {
   "cell_type": "markdown",
   "metadata": {},
   "source": [
    "## Set path to data"
   ]
  },
  {
   "cell_type": "code",
   "execution_count": null,
   "metadata": {},
   "outputs": [],
   "source": [
    "\n",
    "input_dir = './data/raw/'\n",
    "output_dir ='./data/cleaned/'\n",
    "if not os.path.isdir(output_dir) : \n",
    "    os.mkdir(output_dir)\n"
   ]
  },
  {
   "cell_type": "markdown",
   "metadata": {},
   "source": [
    "## Compile Regular expressions\n",
    "\n",
    "Appart from removing special characters, some regex specific to PubMed documents has been defined :\n",
    "- removal of roman numbers, frequently used for book chapter titles\n",
    "- detection of missing content, (<sub><sup>_[Not Available]_</sup></sub>)\n",
    "- Resolving of scientific abbreviations\n"
   ]
  },
  {
   "cell_type": "code",
   "execution_count": null,
   "metadata": {},
   "outputs": [],
   "source": [
    "# special character filter\n",
    "strip_special_chars = re.compile(\"[^\\w_]+\")\n",
    "# roman number filter\n",
    "strip_roman_numbers = re.compile(\"^[MDCLXVI]+[\\s\\.\\n]\")\n",
    "# missing data detector\n",
    "missing_data_detector = re.compile(\"\\[Not Available\\]\\.\")\n",
    "\n",
    "# atopic dermatitis abbreviation\n",
    "atopic_dermatitis_abbr = re.compile(r\"\\bAD\\b\")\n",
    "\n"
   ]
  },
  {
   "cell_type": "markdown",
   "metadata": {},
   "source": [
    "## Create Lemmatizer and stop words list"
   ]
  },
  {
   "cell_type": "code",
   "execution_count": null,
   "metadata": {},
   "outputs": [],
   "source": [
    "lemmatizer = WordNetLemmatizer()\n",
    "\n",
    "def addStopwords(f) : \n",
    "    res = []\n",
    "    with open(f, \"r\") as fin :\n",
    "        for l in fin : \n",
    "            res.append(l.strip())\n",
    "    return res\n",
    "\n"
   ]
  },
  {
   "cell_type": "markdown",
   "metadata": {},
   "source": [
    "\n",
    "## Clean text documents\n",
    "\n",
    "- remove roman number headings\n",
    "- remove numerical values\n",
    "- remove special characters\n",
    "- remove words with length < 2 letters (include many units, usually not defined in stop words lists)\n",
    "- remove stop words (wordnet)\n",
    "- lower case\n",
    "- tokenize\n",
    "- lemmatize\n",
    "\n",
    "processing specific to the study :\n",
    "- resolve atopic dermatitis abbreviation\n",
    "- resolve multiple-wording for atopic dermatitis and atopic eczema\n",
    "- lemmatize atopic dermatitis"
   ]
  },
  {
   "cell_type": "code",
   "execution_count": null,
   "metadata": {},
   "outputs": [],
   "source": [
    "\n",
    "vocs = set()\n",
    "for label in os.listdir(input_dir) :\n",
    "    path_in = input_dir+label+\"/\"\n",
    "    path_out = output_dir+label+\"/\"\n",
    "    if os.path.isdir(path_out):  \n",
    "        shutil.rmtree(path_out)\n",
    "    if \"DS_Store\"not in path_out : \n",
    "        os.mkdir(path_out)\n",
    "\n",
    "        for fileName in os.listdir(path_in) : \n",
    "            if fileName.endswith(\".txt\"):\n",
    "                with open(path_in+fileName, \"r\") as fileContent :\n",
    "                    content = fileContent.read().replace('\\n',' ')\n",
    "\n",
    "                    #remove roman number headings        \n",
    "                    content = re.sub(strip_roman_numbers, \" \", content)\n",
    "\n",
    "                    #remove numbers        \n",
    "                    #content = re.sub(\"(^|\\W)[\\d\\s\\.]+($|\\W)\", \" \", content)   \n",
    "                    content = re.sub(r\"\\b\\d+\\b\", \" \", content)   \n",
    "\n",
    "                    #remove non alphabetical characters        \n",
    "                    content = re.sub(strip_special_chars, \" \", content)\n",
    "\n",
    "                    # switch to lower case\n",
    "                    content = content.lower()\n",
    "\n",
    "                    # QUERY SPECIFIC PREPROCESSING\n",
    "                    # - resolve atopic dermatitis abbreviation\n",
    "                    # - resolve multiple-wording for atopic dermatitis\n",
    "                    \n",
    "                    content = re.sub(r\"eczemas?(\\b|\\s)\", \"\", content, flags=re.IGNORECASE)\n",
    "                    content = re.sub(\"atopic\", \"\", content, flags=re.IGNORECASE)\n",
    "                    content = re.sub(\"dermatiti(s|des|ses)\", \"\", content, flags=re.IGNORECASE)\n",
    "                    \n",
    "                    for m in re.finditer(atopic_dermatitis_abbr, content):\n",
    "                        content = re.sub(re.escape(m.group(0)), '', content)\n",
    "\n",
    "                    #remove word with less than two letter\n",
    "                    content = re.sub(r\"\\b\\w{1,2}\\b\", '', content)               \n",
    "\n",
    "                    # remove stop words\n",
    "                    stop_words = list(stopwords.words(\"english\"))\n",
    "                    #stop_words += addStopwords(\"stopwords.txt\")\n",
    "                    words = word_tokenize(content)\n",
    "                    key_words = [word for word in words if word not in stop_words]\n",
    "\n",
    "                    #lemmatize\n",
    "                    lemmas = [lemmatizer.lemmatize(word) for word in key_words]\n",
    "                    \n",
    "                    for l in lemmas : \n",
    "                        vocs.add(l)\n",
    "\n",
    "                    if lemmas :\n",
    "                        with open(path_out+fileName,\"w\") as output :\n",
    "                            output.write(\" \".join(lemmas))\n",
    "\n",
    "with open(\"vocab.txt\", 'w') as fout : \n",
    "    for w in vocs : \n",
    "        fout.write(w+\"\\n\")\n",
    "\n"
   ]
  },
  {
   "cell_type": "code",
   "execution_count": null,
   "metadata": {},
   "outputs": [],
   "source": []
  }
 ],
 "metadata": {
  "kernelspec": {
   "display_name": "Python 3",
   "language": "python",
   "name": "python3"
  },
  "language_info": {
   "codemirror_mode": {
    "name": "ipython",
    "version": 3
   },
   "file_extension": ".py",
   "mimetype": "text/x-python",
   "name": "python",
   "nbconvert_exporter": "python",
   "pygments_lexer": "ipython3",
   "version": "3.8.5"
  }
 },
 "nbformat": 4,
 "nbformat_minor": 1
}
